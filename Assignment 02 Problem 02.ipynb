{
 "cells": [
  {
   "cell_type": "code",
   "execution_count": 8,
   "id": "d7313d1d",
   "metadata": {},
   "outputs": [
    {
     "name": "stdout",
     "output_type": "stream",
     "text": [
      "Enter the starting range fo Ascii value for dictionary: 97\n",
      "Enter the final range fo Ascii value for dictionary: 122\n",
      "{'a': 97, 'b': 98, 'c': 99, 'd': 100, 'e': 101, 'f': 102, 'g': 103, 'h': 104, 'i': 105, 'j': 106, 'k': 107, 'l': 108, 'm': 109, 'n': 110, 'o': 111, 'p': 112, 'q': 113, 'r': 114, 's': 115, 't': 116, 'u': 117, 'v': 118, 'w': 119, 'x': 120, 'y': 121, 'z': 122}\n"
     ]
    }
   ],
   "source": [
    "# Write a Python program to print a dictionary whose keys should be the alphabet \n",
    "# from a-z and the value should be corresponding ASCII values\n",
    "\n",
    "\n",
    "\n",
    "# Sample Output : {'a': 97, 'b': 98, 'c': 99, 'd': 100, 'e': 101, 'f': 102, \n",
    "#                  'g': 103, 'h': 104, 'i': 105, 'j': 106, 'k': 107, 'l': 108, 'm': 109, \n",
    "#                  'n': 110, 'o': 111, 'p': 112, 'q': 113, 'r': 114, 's': 115, 't': 116, \n",
    "#                  'u': 117, 'v': 118, 'w': 119, 'x': 120, 'y': 121, 'z': 122}\n",
    "\n",
    "n1= int(input(\"Enter the starting range fo Ascii value for dictionary: \")) \n",
    "n2= int(input(\"Enter the final range fo Ascii value for dictionary: \"))\n",
    "n3= n2+1\n",
    "dict = {}\n",
    "for j in range(n1,n3):\n",
    "    dict[chr(j)] = j\n",
    "print(dict)"
   ]
  }
 ],
 "metadata": {
  "kernelspec": {
   "display_name": "Python 3 (ipykernel)",
   "language": "python",
   "name": "python3"
  },
  "language_info": {
   "codemirror_mode": {
    "name": "ipython",
    "version": 3
   },
   "file_extension": ".py",
   "mimetype": "text/x-python",
   "name": "python",
   "nbconvert_exporter": "python",
   "pygments_lexer": "ipython3",
   "version": "3.9.12"
  }
 },
 "nbformat": 4,
 "nbformat_minor": 5
}
